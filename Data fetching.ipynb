{
 "cells": [
  {
   "cell_type": "code",
   "execution_count": null,
   "id": "3a14e2c3",
   "metadata": {},
   "outputs": [],
   "source": [
    "import requests\n",
    "import pandas as pd\n",
    "from math import ceil\n",
    "import pickle"
   ]
  },
  {
   "cell_type": "code",
   "execution_count": null,
   "id": "6ad58c96",
   "metadata": {},
   "outputs": [],
   "source": [
    "DataPath = \"dialect_dataset.csv\"\n",
    "df = pd.read_csv(DataPath,header=None)"
   ]
  },
  {
   "cell_type": "code",
   "execution_count": null,
   "id": "2851b700",
   "metadata": {},
   "outputs": [],
   "source": [
    "#col , row\n",
    "IDs = []\n",
    "Dils = []\n",
    "for i in range(1,len(df[0])):\n",
    "    ID = df[0][i]\n",
    "    Dil = df[1][i]\n",
    "    IDs.append(str(ID))\n",
    "    Dils.append(str(Dil))"
   ]
  },
  {
   "cell_type": "code",
   "execution_count": null,
   "id": "988c95bb",
   "metadata": {},
   "outputs": [],
   "source": [
    "LenOfDataBy_Thousand = ceil(len(IDs)/1000)"
   ]
  },
  {
   "cell_type": "code",
   "execution_count": null,
   "id": "221decfd",
   "metadata": {},
   "outputs": [],
   "source": [
    "url = \"https://recruitment.aimtechnologies.co/ai-tasks\"\n",
    "FinalData = []\n",
    "for i in range(LenOfDataBy_Thousand):\n",
    "    print(\"On Number: \",i,end=\"\\r\")\n",
    "    \n",
    "    start = i*1000\n",
    "    end = start+1000\n",
    "    if end > len(DataList):\n",
    "        IDss = IDs[start:]\n",
    "        Dilss = Dils[start:]\n",
    "    else:\n",
    "        IDss = IDs[start:end]\n",
    "        Dilss = Dils[start:end]\n",
    "    JSON = IDss\n",
    "    res = requests.post(url , json=JSON)\n",
    "    for j in range(len(IDss)):\n",
    "        FinalData.append([res.json()[IDss[j]],Dilss[j]])"
   ]
  },
  {
   "cell_type": "code",
   "execution_count": null,
   "id": "3911a85e",
   "metadata": {},
   "outputs": [],
   "source": [
    "with open('Dataset.pkl', 'wb') as f:\n",
    "    pickle.dump(FinalData, f)"
   ]
  }
 ],
 "metadata": {
  "kernelspec": {
   "display_name": "Python 3.7 (tensorflow)",
   "language": "python",
   "name": "tensorflow"
  },
  "language_info": {
   "codemirror_mode": {
    "name": "ipython",
    "version": 3
   },
   "file_extension": ".py",
   "mimetype": "text/x-python",
   "name": "python",
   "nbconvert_exporter": "python",
   "pygments_lexer": "ipython3",
   "version": "3.7.10"
  }
 },
 "nbformat": 4,
 "nbformat_minor": 5
}
