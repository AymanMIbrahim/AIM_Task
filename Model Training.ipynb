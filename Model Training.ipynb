{
 "cells": [
  {
   "cell_type": "code",
   "execution_count": 1,
   "id": "5d84c151",
   "metadata": {},
   "outputs": [
    {
     "name": "stderr",
     "output_type": "stream",
     "text": [
      "C:\\Users\\Ayman Mohamed\\anaconda3\\envs\\tensorflow\\lib\\importlib\\_bootstrap.py:219: RuntimeWarning: numpy.ufunc size changed, may indicate binary incompatibility. Expected 192 from C header, got 216 from PyObject\n",
      "  return f(*args, **kwds)\n",
      "[nltk_data] Downloading package stopwords to C:\\Users\\Ayman\n",
      "[nltk_data]     Mohamed\\AppData\\Roaming\\nltk_data...\n",
      "[nltk_data]   Package stopwords is already up-to-date!\n",
      "[nltk_data] Downloading package punkt to C:\\Users\\Ayman\n",
      "[nltk_data]     Mohamed\\AppData\\Roaming\\nltk_data...\n",
      "[nltk_data]   Package punkt is already up-to-date!\n"
     ]
    }
   ],
   "source": [
    "import requests\n",
    "import numpy as np\n",
    "import pandas as pd\n",
    "import matplotlib.pyplot as plt\n",
    "from math import ceil\n",
    "import pickle\n",
    "import tensorflow as tf\n",
    "from tensorflow.keras.regularizers import l1\n",
    "from tensorflow.keras.callbacks import CSVLogger, ModelCheckpoint, EarlyStopping\n",
    "from tensorflow.keras.callbacks import ReduceLROnPlateau\n",
    "import re\n",
    "from sklearn.feature_extraction.text import CountVectorizer\n",
    "from sklearn.feature_extraction.text import TfidfVectorizer\n",
    "import nltk\n",
    "from sklearn.datasets import load_files\n",
    "nltk.download('stopwords')\n",
    "nltk.download('punkt')\n",
    "from nltk.corpus import stopwords\n",
    "from sklearn.model_selection import train_test_split\n",
    "from sklearn.ensemble import RandomForestClassifier\n",
    "from sklearn.ensemble import RandomForestRegressor"
   ]
  },
  {
   "cell_type": "code",
   "execution_count": 2,
   "id": "5c14e324",
   "metadata": {},
   "outputs": [],
   "source": [
    "with open(\"Dataset_After_Processing.pkl\", \"rb\") as DS:\n",
    "    Final_Preprocced_Data = pickle.load(DS)"
   ]
  },
  {
   "cell_type": "code",
   "execution_count": 3,
   "id": "58631251",
   "metadata": {},
   "outputs": [],
   "source": [
    "X = []\n",
    "Y = []\n",
    "for i in range(len(Final_Preprocced_Data)):\n",
    "    X.append(Final_Preprocced_Data[i][0])\n",
    "    Y.append(Final_Preprocced_Data[i][1])"
   ]
  },
  {
   "cell_type": "code",
   "execution_count": 4,
   "id": "6c43e0c2",
   "metadata": {},
   "outputs": [
    {
     "data": {
      "text/plain": [
       "(244652,)"
      ]
     },
     "execution_count": 4,
     "metadata": {},
     "output_type": "execute_result"
    }
   ],
   "source": [
    "yy = set(Y)\n",
    "Classes = sorted(list(yy))\n",
    "ClassesCodes = {}\n",
    "for i in range(len(Classes)):\n",
    "    Class = Classes[i]\n",
    "    ClassesCodes[Class] = np.array(i)\n",
    "\n",
    "y = []\n",
    "for i in range(len(Y)):\n",
    "    Class = Y[i]\n",
    "    y.append(ClassesCodes[Class])\n",
    "\n",
    "y = np.array(y)\n",
    "y.shape"
   ]
  },
  {
   "cell_type": "code",
   "execution_count": 5,
   "id": "19463cf5",
   "metadata": {},
   "outputs": [],
   "source": [
    "Classes = sorted(list(yy))"
   ]
  },
  {
   "cell_type": "code",
   "execution_count": 6,
   "id": "5150559a",
   "metadata": {},
   "outputs": [],
   "source": [
    "ClassesCodes = {}\n",
    "for i in range(len(Classes)):\n",
    "    Class = Classes[i]\n",
    "    ClassesCodes[Class] = np.array(i)"
   ]
  },
  {
   "cell_type": "code",
   "execution_count": 7,
   "id": "aa36f1ad",
   "metadata": {},
   "outputs": [
    {
     "data": {
      "text/plain": [
       "{'AE': array(0),\n",
       " 'BH': array(1),\n",
       " 'DZ': array(2),\n",
       " 'EG': array(3),\n",
       " 'IQ': array(4),\n",
       " 'JO': array(5),\n",
       " 'KW': array(6),\n",
       " 'LB': array(7),\n",
       " 'LY': array(8),\n",
       " 'MA': array(9),\n",
       " 'OM': array(10),\n",
       " 'PL': array(11),\n",
       " 'QA': array(12),\n",
       " 'SA': array(13),\n",
       " 'SD': array(14),\n",
       " 'SY': array(15),\n",
       " 'TN': array(16),\n",
       " 'YE': array(17)}"
      ]
     },
     "execution_count": 7,
     "metadata": {},
     "output_type": "execute_result"
    }
   ],
   "source": [
    "ClassesCodes"
   ]
  },
  {
   "cell_type": "code",
   "execution_count": 8,
   "id": "f97fdea4",
   "metadata": {},
   "outputs": [],
   "source": [
    "y = []\n",
    "for i in range(len(Y)):\n",
    "    Class = Y[i]\n",
    "    y.append(ClassesCodes[Class])"
   ]
  },
  {
   "cell_type": "code",
   "execution_count": 9,
   "id": "7d347a55",
   "metadata": {},
   "outputs": [],
   "source": [
    "NumberOfData_PerClass = [0]*len(Classes)\n",
    "for Data in Y:\n",
    "    Index = Classes.index(Data)\n",
    "    NumberOfData_PerClass[Index] += 1"
   ]
  },
  {
   "cell_type": "code",
   "execution_count": 10,
   "id": "b93966b7",
   "metadata": {},
   "outputs": [
    {
     "data": {
      "image/png": "[encoded data removed]",
      "text/plain": [
       "<Figure size 1296x504 with 1 Axes>"
      ]
     },
     "metadata": {
      "needs_background": "light"
     },
     "output_type": "display_data"
    }
   ],
   "source": [
    "fig = plt.figure(figsize = (18, 7))\n",
    " \n",
    "plt.bar(Classes, NumberOfData_PerClass, color ='maroon',width = 0.4)\n",
    " \n",
    "plt.xlabel(\"Classes\")\n",
    "plt.ylabel(\"Number Of Data\")\n",
    "plt.title(\"Data Visual\")\n",
    "plt.show()"
   ]
  },
  {
   "cell_type": "markdown",
   "id": "68546dcc",
   "metadata": {},
   "source": [
    "# Machine Learning Model"
   ]
  },
  {
   "cell_type": "code",
   "execution_count": 17,
   "id": "1b328210",
   "metadata": {},
   "outputs": [],
   "source": [
    "y = np.array(y)"
   ]
  },
  {
   "cell_type": "code",
   "execution_count": 18,
   "id": "49ff5d76",
   "metadata": {},
   "outputs": [
    {
     "name": "stderr",
     "output_type": "stream",
     "text": [
      "C:\\Users\\Ayman Mohamed\\anaconda3\\envs\\tensorflow\\lib\\site-packages\\sklearn\\feature_extraction\\text.py:385: UserWarning: Your stop_words may be inconsistent with your preprocessing. Tokenizing the stop words generated tokens ['آمين', 'أب', 'أخ', 'أفعل', 'أفعله', 'ؤلاء', 'إل', 'إم', 'ات', 'اتان', 'ارتد', 'ان', 'انفك', 'برح', 'تان', 'تبد', 'تحو', 'تعل', 'حد', 'حم', 'حي', 'خب', 'ذار', 'سيما', 'صه', 'ظل', 'ظن', 'عد', 'قط', 'مر', 'مكان', 'مكانكن', 'نب', 'هات', 'هب', 'واها', 'وراء'] not in stop_words.\n",
      "  'stop_words.' % sorted(inconsistent))\n"
     ]
    }
   ],
   "source": [
    "tfidfconverter = TfidfVectorizer(max_features=1000, min_df=5, max_df=0.7, stop_words=stopwords.words('arabic'))\n",
    "X_Vec = tfidfconverter.fit_transform(X).toarray()"
   ]
  },
  {
   "cell_type": "code",
   "execution_count": 19,
   "id": "2ee957fc",
   "metadata": {},
   "outputs": [],
   "source": [
    "X_train, X_test, y_train, y_test = train_test_split(X_Vec, y, test_size=0.2, random_state=0,shuffle=True)"
   ]
  },
  {
   "cell_type": "code",
   "execution_count": 20,
   "id": "97490902",
   "metadata": {},
   "outputs": [
    {
     "name": "stdout",
     "output_type": "stream",
     "text": [
      "Train Shape:  (195721, 1000)\n",
      "Test Shape:  (48931, 1000)\n",
      "Target Train Shape:  (195721,)\n",
      "Target Test Shape:  (48931,)\n"
     ]
    }
   ],
   "source": [
    "print(\"Train Shape: \",X_train.shape)\n",
    "print(\"Test Shape: \",X_test.shape)\n",
    "print(\"Target Train Shape: \",y_train.shape)\n",
    "print(\"Target Test Shape: \",y_test.shape)"
   ]
  },
  {
   "cell_type": "code",
   "execution_count": 29,
   "id": "524fad86",
   "metadata": {},
   "outputs": [],
   "source": [
    "classifierRandom = RandomForestClassifier(n_estimators=300,max_depth=15, random_state=0)"
   ]
  },
  {
   "cell_type": "code",
   "execution_count": 30,
   "id": "c2edb8d4",
   "metadata": {},
   "outputs": [
    {
     "data": {
      "text/plain": [
       "RandomForestClassifier(bootstrap=True, ccp_alpha=0.0, class_weight=None,\n",
       "                       criterion='gini', max_depth=15, max_features='auto',\n",
       "                       max_leaf_nodes=None, max_samples=None,\n",
       "                       min_impurity_decrease=0.0, min_impurity_split=None,\n",
       "                       min_samples_leaf=1, min_samples_split=2,\n",
       "                       min_weight_fraction_leaf=0.0, n_estimators=300,\n",
       "                       n_jobs=None, oob_score=False, random_state=0, verbose=0,\n",
       "                       warm_start=False)"
      ]
     },
     "execution_count": 30,
     "metadata": {},
     "output_type": "execute_result"
    }
   ],
   "source": [
    "classifierRandom.fit(X_train, y_train)"
   ]
  },
  {
   "cell_type": "code",
   "execution_count": 31,
   "id": "26e52f10",
   "metadata": {},
   "outputs": [],
   "source": [
    "y_pred = classifierRandom.predict(X_test)"
   ]
  },
  {
   "cell_type": "code",
   "execution_count": 32,
   "id": "ee7a9a51",
   "metadata": {},
   "outputs": [
    {
     "name": "stdout",
     "output_type": "stream",
     "text": [
      "Accuracy:  28.918 %\n"
     ]
    }
   ],
   "source": [
    "Correct = 0\n",
    "Total = len(y_pred)\n",
    "for i in range(len(y_pred)):\n",
    "    if y_pred[i] == y_test[i]:\n",
    "        Correct += 1\n",
    "\n",
    "Acc = round((Correct*100)/Total,3)\n",
    "print(\"Accuracy: \",Acc,\"%\")"
   ]
  },
  {
   "cell_type": "code",
   "execution_count": 33,
   "id": "a6785d74",
   "metadata": {},
   "outputs": [],
   "source": [
    "with open('ML_Model.pkl', 'wb') as f:\n",
    "    pickle.dump(classifierRandom, f)"
   ]
  },
  {
   "cell_type": "markdown",
   "id": "addb94bf",
   "metadata": {},
   "source": [
    "# Deep Learning Model"
   ]
  },
  {
   "cell_type": "code",
   "execution_count": 34,
   "id": "07796b0b",
   "metadata": {},
   "outputs": [],
   "source": [
    "max_len = 90"
   ]
  },
  {
   "cell_type": "code",
   "execution_count": 35,
   "id": "b5e0eba3",
   "metadata": {},
   "outputs": [],
   "source": [
    "#ID Each word in our dataset\n",
    "word2ID = {}\n",
    "ID = 1\n",
    "for data in X:\n",
    "    words = nltk.word_tokenize(data)\n",
    "    for word in words:\n",
    "        if word not in word2ID.keys():\n",
    "            word2ID[word] = ID\n",
    "            ID += 1"
   ]
  },
  {
   "cell_type": "code",
   "execution_count": 36,
   "id": "77b94c0b",
   "metadata": {},
   "outputs": [],
   "source": [
    "with open('Word2ID.pkl', 'wb') as f:\n",
    "    pickle.dump(word2ID, f)"
   ]
  },
  {
   "cell_type": "code",
   "execution_count": null,
   "id": "70b0ab1b",
   "metadata": {},
   "outputs": [],
   "source": [
    "with open(\"Word2ID.pkl\", \"rb\") as DS:\n",
    "    word2ID = pickle.load(DS)"
   ]
  },
  {
   "cell_type": "code",
   "execution_count": 37,
   "id": "2064d776",
   "metadata": {},
   "outputs": [],
   "source": [
    "Vocab_size = len(word2ID)"
   ]
  },
  {
   "cell_type": "code",
   "execution_count": null,
   "id": "eb095c75",
   "metadata": {},
   "outputs": [],
   "source": [
    "#Replace Each Word with it's corrosponding ID\n",
    "X_Vector = []\n",
    "for data in X:\n",
    "    Vec = []\n",
    "    words = nltk.word_tokenize(data)\n",
    "    for word in words:\n",
    "        Id = word2ID[word]\n",
    "        Vec.append(Id)\n",
    "    X_Vector.append(Vec)"
   ]
  },
  {
   "cell_type": "code",
   "execution_count": null,
   "id": "60a67cf9",
   "metadata": {},
   "outputs": [],
   "source": [
    "X_Vector = tf.keras.preprocessing.sequence.pad_sequences(X_Vector, maxlen=max_len)"
   ]
  },
  {
   "cell_type": "code",
   "execution_count": null,
   "id": "c1bae38a",
   "metadata": {},
   "outputs": [],
   "source": [
    "X_Vector = np.array(X_Vector,dtype=np.int32)"
   ]
  },
  {
   "cell_type": "code",
   "execution_count": null,
   "id": "5a99654a",
   "metadata": {},
   "outputs": [],
   "source": [
    "X_train, X_test, y_train, y_test = train_test_split(X_Vector, y, test_size=0.2, random_state=0,shuffle=True)b"
   ]
  },
  {
   "cell_type": "code",
   "execution_count": null,
   "id": "f15df4fc",
   "metadata": {},
   "outputs": [],
   "source": [
    "print(\"Train Shape: \",X_train.shape)\n",
    "print(\"Test Shape: \",X_test.shape)\n",
    "print(\"Target Train Shape: \",y_train.shape)\n",
    "print(\"Target Test Shape: \",y_test.shape)"
   ]
  },
  {
   "cell_type": "code",
   "execution_count": null,
   "id": "d46e9951",
   "metadata": {},
   "outputs": [],
   "source": [
    "embed_size = 128\n",
    "model = tf.keras.Sequential()\n",
    "model.add(tf.keras.layers.Embedding(Vocab_size, embed_size, input_shape=(X_train.shape[1],)))\n",
    "model.add(tf.keras.layers.LSTM(units=256, activation='tanh',return_sequences=True))\n",
    "model.add(tf.keras.layers.LSTM(units=128, activation='tanh',return_sequences=True))\n",
    "model.add(tf.keras.layers.LSTM(units=64, activation='tanh',return_sequences=True))\n",
    "model.add(tf.keras.layers.LSTM(units=32, activation='tanh'))\n",
    "model.add(tf.keras.layers.Dropout(0.5))\n",
    "model.add(tf.keras.layers.Dense(units=len(Classes), activation='softmax',activity_regularizer=tf.keras.regularizers.L1(0.01)))"
   ]
  },
  {
   "cell_type": "code",
   "execution_count": null,
   "id": "15336530",
   "metadata": {},
   "outputs": [],
   "source": [
    "base_path = \"./\"\n",
    "patience = 20\n",
    "early_stop = EarlyStopping('val_loss', patience=patience)\n",
    "reduce_lr = ReduceLROnPlateau('val_loss', factor=0.1,patience=int(patience/4), verbose=1)\n",
    "trained_models_path = base_path + 'LSTM'\n",
    "model_names = trained_models_path+\"-\"+\"TEXT-Classifictaion_V2\"+ '-{epoch:02d}-{val_accuracy:.2f}.hdf5'\n",
    "model_checkpoint = ModelCheckpoint(model_names, 'val_loss', verbose=1,save_best_only=True)\n",
    "callbacks = [model_checkpoint, early_stop, reduce_lr]"
   ]
  },
  {
   "cell_type": "code",
   "execution_count": null,
   "id": "c8a3be7c",
   "metadata": {},
   "outputs": [],
   "source": [
    "opt = tf.keras.optimizers.SGD(learning_rate= 0.001 , momentum=0.9,nesterov=True)\n",
    "model.compile(optimizer=opt, loss='sparse_categorical_crossentropy', metrics=['accuracy'])\n",
    "model.summary()"
   ]
  },
  {
   "cell_type": "code",
   "execution_count": null,
   "id": "517a32e7",
   "metadata": {},
   "outputs": [],
   "source": [
    "model.fit(X_train, y_train, epochs=10000, batch_size=128 , validation_split=0.2,verbose=1,callbacks=callbacks,shuffle=True)"
   ]
  }
 ],
 "metadata": {
  "kernelspec": {
   "display_name": "Python 3.7 (tensorflow)",
   "language": "python",
   "name": "tensorflow"
  },
  "language_info": {
   "codemirror_mode": {
    "name": "ipython",
    "version": 3
   },
   "file_extension": ".py",
   "mimetype": "text/x-python",
   "name": "python",
   "nbconvert_exporter": "python",
   "pygments_lexer": "ipython3",
   "version": "3.7.10"
  }
 },
 "nbformat": 4,
 "nbformat_minor": 5
}
