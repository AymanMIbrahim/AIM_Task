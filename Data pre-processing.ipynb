{
 "cells": [
  {
   "cell_type": "code",
   "execution_count": null,
   "id": "4ad4cb11",
   "metadata": {},
   "outputs": [],
   "source": [
    "import requests\n",
    "import numpy as np\n",
    "import pandas as pd\n",
    "import matplotlib.pyplot as plt\n",
    "from math import ceil\n",
    "import pickle"
   ]
  },
  {
   "cell_type": "code",
   "execution_count": null,
   "id": "c5cb4f72",
   "metadata": {},
   "outputs": [],
   "source": [
    "with open(\"AIM/Dataset.pkl\", \"rb\") as DS:\n",
    "    FinalData = pickle.load(DS)"
   ]
  },
  {
   "cell_type": "code",
   "execution_count": null,
   "id": "07a77f1e",
   "metadata": {},
   "outputs": [],
   "source": [
    "def remove_emojis(data):\n",
    "    emoj = re.compile(\"[\"\n",
    "        u\"\\U0001F600-\\U0001F64F\"  # emoticons\n",
    "        u\"\\U0001F300-\\U0001F5FF\"  # symbols & pictographs\n",
    "        u\"\\U0001F680-\\U0001F6FF\"  # transport & map symbols\n",
    "        u\"\\U0001F1E0-\\U0001F1FF\"  # flags (iOS)\n",
    "        u\"\\U00002500-\\U00002BEF\"  # chinese char\n",
    "        u\"\\U00002702-\\U000027B0\"\n",
    "        u\"\\U00002702-\\U000027B0\"\n",
    "        u\"\\U000024C2-\\U0001F251\"\n",
    "        u\"\\U0001f926-\\U0001f937\"\n",
    "        u\"\\U00010000-\\U0010ffff\"\n",
    "        u\"\\u2640-\\u2642\" \n",
    "        u\"\\u2600-\\u2B55\"\n",
    "        u\"\\u200d\"\n",
    "        u\"\\u23cf\"\n",
    "        u\"\\u23e9\"\n",
    "        u\"\\u231a\"\n",
    "        u\"\\ufe0f\"  # dingbats\n",
    "        u\"\\u3030\"\n",
    "                      \"]+\", re.UNICODE)\n",
    "    return re.sub(emoj, '', data)"
   ]
  },
  {
   "cell_type": "code",
   "execution_count": null,
   "id": "6a8d1807",
   "metadata": {},
   "outputs": [],
   "source": [
    "Final_Preprocced_Data = []\n",
    "for i in range(len(FinalData)):\n",
    "    Sent = FinalData[i][0].lower()\n",
    "    D = remove_emojis(Sent)\n",
    "    tempList = []\n",
    "    ID = FinalData[i][1] \n",
    "    SplitedData = re.split(r'[a-z 1 2 3 4 5 6 7 8 9 0 ^ ( ) , ، % $ : ; \"  > < ! ? ؟  ; _ -|, |\\*|\\n . @ ? ! # / \\xa0]'\n",
    "                           ,D) \n",
    "    for words in SplitedData:\n",
    "        if (words != \"\"):\n",
    "            tempList.append(words)\n",
    "    \n",
    "    WholeArabicSent = ' '.join(tempList)\n",
    "    NumberOfWords = len(WholeArabicSent.split())\n",
    "    if NumberOfWords < 10:\n",
    "        continue\n",
    "    else:\n",
    "        Final_Preprocced_Data.append([WholeArabicSent,ID])"
   ]
  },
  {
   "cell_type": "code",
   "execution_count": null,
   "id": "12ba92b4",
   "metadata": {},
   "outputs": [],
   "source": [
    "Final_Preprocced_Data[0:200]"
   ]
  },
  {
   "cell_type": "code",
   "execution_count": null,
   "id": "95fc53b6",
   "metadata": {},
   "outputs": [],
   "source": [
    "MaxSent = -1\n",
    "MinSent = 10000\n",
    "MaxIndex = 0\n",
    "MinIndex = 0\n",
    "for i in range(len(Final_Preprocced_Data)):\n",
    "    Sent = Final_Preprocced_Data[i][0].split()\n",
    "    SentLength = len(Sent)\n",
    "    if SentLength > MaxSent:\n",
    "        MaxSent = SentLength\n",
    "        MaxIndex = i\n",
    "    if SentLength < MinSent:\n",
    "        MinSent = SentLength\n",
    "        MinIndex = i\n",
    "\n",
    "print(\"Max Sent\",MaxSent)\n",
    "print(\"Min Sent\",MinSent)"
   ]
  },
  {
   "cell_type": "code",
   "execution_count": null,
   "id": "c686e218",
   "metadata": {},
   "outputs": [],
   "source": [
    "with open('Dataset_After_Processing.pkl', 'wb') as f:\n",
    "    pickle.dump(Final_Preprocced_Data, f)"
   ]
  }
 ],
 "metadata": {
  "kernelspec": {
   "display_name": "Python 3.7 (tensorflow)",
   "language": "python",
   "name": "tensorflow"
  },
  "language_info": {
   "codemirror_mode": {
    "name": "ipython",
    "version": 3
   },
   "file_extension": ".py",
   "mimetype": "text/x-python",
   "name": "python",
   "nbconvert_exporter": "python",
   "pygments_lexer": "ipython3",
   "version": "3.7.10"
  }
 },
 "nbformat": 4,
 "nbformat_minor": 5
}
